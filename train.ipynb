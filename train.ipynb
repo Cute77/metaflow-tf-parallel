{
 "cells": [
  {
   "cell_type": "code",
   "execution_count": null,
   "metadata": {},
   "outputs": [],
   "source": [
    "from tf_utils import TFMixin"
   ]
  },
  {
   "cell_type": "code",
   "execution_count": null,
   "metadata": {},
   "outputs": [],
   "source": [
    "# config\n",
    "tensorboard_logdir = \"./data/experiments/t5/logs\"\n",
    "checkpoint_savedir = \"./data/experiments/t5/models\"\n",
    "\n",
    "# hyperparams\n",
    "batch_size = 4\n",
    "num_parallel = 2\n",
    "epochs = 1\n",
    "model_arch = \"SnapthatT5\"\n",
    "model_src = \"t5-small\"\n",
    "learning_rate = 1e-6"
   ]
  },
  {
   "cell_type": "code",
   "execution_count": null,
   "metadata": {},
   "outputs": [],
   "source": [
    "# Although it doesn't directly solve your problem with TQDM, \n",
    "    # multiple inheritance is a convenient pattern for Metaflow generally that makes these issues far less painful.\n",
    "# This TFMixin thing is a parent of the FlowSpec child class.\n",
    "tf_handler = TFMixin()"
   ]
  },
  {
   "cell_type": "code",
   "execution_count": null,
   "metadata": {},
   "outputs": [],
   "source": [
    "# The reason to do this is to do iterate quickly in the NB with all the progress bars and iterative Jupyter feel, \n",
    "    # then once the code runs as you want it is a simple copy-pasta to port over to the FlowSpec and harden the workflow.\n",
    "    # Wherever `tf_handler.` is used in this cell, replace with `self.` in the FlowSpec tasks.\n",
    "    # The other minor thing to do during the copy-pasta is use self. in front of hyperparams in the FlowSpec, \n",
    "        # since they can be set as Metaflow params which you can dynamically set at the flow runtime. \n",
    "    # See flow_single.py for an example that is implemented.\n",
    "\n",
    "tf_train_ds, tf_valid_ds, train_steps, valid_steps = tf_handler.get_data(\n",
    "    'squad', pct='10', batch_size = batch_size, num_workers=1)\n",
    "\n",
    "callbacks = tf_handler.configure_callbacks(tensorboard_logdir, checkpoint_savedir)\n",
    "\n",
    "tuning_set = {'learning_rate': learning_rate}\n",
    "model = tf_handler.compile_model(model_src = model_src, hyperparams=tuning_set)"
   ]
  },
  {
   "cell_type": "code",
   "execution_count": null,
   "metadata": {},
   "outputs": [],
   "source": [
    "# Let keras do the magic, with progress bars! 🎉 🥳\n",
    "model.fit(\n",
    "    tf_train_ds,\n",
    "    epochs=1,\n",
    "    steps_per_epoch=train_steps,\n",
    "    validation_data=tf_valid_ds, \n",
    "    validation_steps=valid_steps,\n",
    "    callbacks=callbacks, \n",
    ")"
   ]
  }
 ],
 "metadata": {
  "kernelspec": {
   "display_name": "tf_parallel",
   "language": "python",
   "name": "python3"
  },
  "language_info": {
   "codemirror_mode": {
    "name": "ipython",
    "version": 3
   },
   "file_extension": ".py",
   "mimetype": "text/x-python",
   "name": "python",
   "nbconvert_exporter": "python",
   "pygments_lexer": "ipython3",
   "version": "3.10.10"
  },
  "orig_nbformat": 4
 },
 "nbformat": 4,
 "nbformat_minor": 2
}
